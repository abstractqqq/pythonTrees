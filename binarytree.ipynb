{
  "nbformat": 4,
  "nbformat_minor": 0,
  "metadata": {
    "colab": {
      "name": "binarytree.ipynb",
      "provenance": [],
      "collapsed_sections": [],
      "authorship_tag": "ABX9TyPXxwUMgOhV1lfkGqliiV9j",
      "include_colab_link": true
    },
    "kernelspec": {
      "name": "python3",
      "display_name": "Python 3"
    },
    "language_info": {
      "name": "python"
    }
  },
  "cells": [
    {
      "cell_type": "markdown",
      "metadata": {
        "id": "view-in-github",
        "colab_type": "text"
      },
      "source": [
        "<a href=\"https://colab.research.google.com/github/qtren/pythonTrees/blob/main/binarytree.ipynb\" target=\"_parent\"><img src=\"https://colab.research.google.com/assets/colab-badge.svg\" alt=\"Open In Colab\"/></a>"
      ]
    },
    {
      "cell_type": "code",
      "metadata": {
        "id": "fouEFk_9YDLa"
      },
      "source": [
        "from collections import deque\n",
        "import math"
      ],
      "execution_count": 1,
      "outputs": []
    },
    {
      "cell_type": "code",
      "metadata": {
        "id": "RvDeTQ4aU3aE"
      },
      "source": [
        "class node:\n",
        "\n",
        "    def __init__(self, val):\n",
        "        self.left = None\n",
        "        self.right = None\n",
        "        self.data = val\n",
        "        self.height = 1\n"
      ],
      "execution_count": 2,
      "outputs": []
    },
    {
      "cell_type": "code",
      "metadata": {
        "id": "rcKUJwmwVA0s"
      },
      "source": [
        "\n",
        "class binary_tree:\n",
        "\n",
        "    def __init__(self):\n",
        "        self.root = None\n",
        "\n",
        "    def display(self):\n",
        "        if self.root == None:\n",
        "            print(\"Nothing in tree.\")\n",
        "            return\n",
        "\n",
        "        d = deque()\n",
        "        d.append(self.root)\n",
        "        level = 0\n",
        "        while d:\n",
        "            # while d is not empty\n",
        "            print(\"\\n Level \" + str(level), end = \"\\n\")\n",
        "            size = len(d)\n",
        "\n",
        "            while size > 0:\n",
        "                last = d.popleft() # Always get leftmost element, because first come, first out\n",
        "                size -= 1\n",
        "                print(last.data, end = \" \")\n",
        "                if last.left != None:\n",
        "                    d.append(last.left)\n",
        "\n",
        "                if last.right != None:\n",
        "                    d.append(last.right)\n",
        "                    \n",
        "            level += 1\n",
        "\n",
        "    def leftRotate(self, nd):\n",
        "        # r will become the new root of this subtree\n",
        "        r = nd.right\n",
        "        rl = r.left # May or may not be none\n",
        "        # Rotate\n",
        "        r.left = nd\n",
        "        nd.right = rl\n",
        "        # Update heights\n",
        "        nd.height = 1 + max(self.height(nd.left), self.height(nd.right))\n",
        "        r.height = 1 + max(self.height(r.left), self.height(r.right))\n",
        "\n",
        "        if nd == self.root:\n",
        "            self.root = r\n",
        "\n",
        "        return r\n",
        "        \n",
        "\n",
        "    def rightRotate(self, nd):\n",
        "        l = nd.left\n",
        "        lr = l.right\n",
        "        # Rotate \n",
        "        l.right = nd\n",
        "        nd.left = lr\n",
        "        # Update heights\n",
        "        nd.height = 1 + max(self.height(nd.left), self.height(nd.right))\n",
        "        l.height = 1 + max(self.height(l.left), self.height(l.right))\n",
        "\n",
        "        if nd == self.root:\n",
        "            self.root = l\n",
        "\n",
        "        return l\n",
        "\n",
        "    def height(self, root):\n",
        "        return root.height if root else 0\n",
        "        \n",
        "    def balance_factor(self, root):\n",
        "        return (self.height(root.left) - self.height(root.right)) if root else 0\n",
        "\n",
        "    # insertion for BST\n",
        "    def bst_add(self, nd, val):\n",
        "        if nd == None:\n",
        "            newNode = node(val)\n",
        "            if self.root == None:\n",
        "                self.root = newNode\n",
        "            return newNode\n",
        "        elif val < nd.data:\n",
        "            nd.left = self.bst_add(nd.left, val)\n",
        "        else:\n",
        "            nd.right = self.bst_add(nd.right, val)\n",
        "\n",
        "        nd.height = 1 + max(self.height(nd.left), self.height(nd.right))\n",
        "        balance = self.balance_factor(nd)\n",
        "        # Right rotation\n",
        "        if balance > 1 and val < nd.left.data:\n",
        "            return self.rightRotate(nd)\n",
        "        # Left rotation\n",
        "        if balance < -1 and val > nd.right.data:\n",
        "            return self.leftRotate(nd)\n",
        "        # Left right\n",
        "        if balance > 1 and val > nd.left.data:\n",
        "            nd.left = self.leftRotate(nd.left)\n",
        "            return self.rightRotate(nd)\n",
        "        # Right Left\n",
        "        if balance < -1 and val < nd.right.data:\n",
        "            nd.right = self.rightRotate(nd.right)\n",
        "            return self.leftRotate(nd)\n",
        "\n",
        "        return nd\n",
        "\n",
        "\n",
        "\n",
        "    def _delete_restructure(self, cur, pt, left_or_right):\n",
        "        if cur.left == None and cur.right == None:\n",
        "            if pt == None:\n",
        "                self.root = None\n",
        "            else:\n",
        "                if left_or_right == 0:\n",
        "                    pt.left = None\n",
        "                else:\n",
        "                    pt.right = None\n",
        "            \n",
        "            cur = None\n",
        "        \n",
        "        elif cur.left != None and cur.right == None:\n",
        "            child = cur.left\n",
        "            if pt == None: # when pt = None, that means cur = root\n",
        "                self.root = child\n",
        "            else:\n",
        "                if left_or_right == 0:\n",
        "                    pt.left = child\n",
        "                else:\n",
        "                    pt.right = child\n",
        "            \n",
        "            cur = None\n",
        "\n",
        "        elif cur.left == None and cur.right != None:\n",
        "            child = cur.right\n",
        "            if pt == None: # when pt = None, that means cur = root\n",
        "                self.root = child\n",
        "            else:\n",
        "                if left_or_right == 0:\n",
        "                    pt.left = child\n",
        "                else:\n",
        "                    pt.right = child\n",
        "            \n",
        "            cur = None\n",
        "\n",
        "        else:\n",
        "            # Now cur.left != None and cur.right != None\n",
        "            # It is gauranteed that left and right child exist for cur\n",
        "            ios, ios_pt, l_or_r = self._ios(cur)\n",
        "            cur.data = ios.data\n",
        "            # And it is gauranteed that ios will fall into the first two cases.\n",
        "            self._delete_restructure(ios, ios_pt, l_or_r)\n",
        "\n",
        "    \n",
        "\n",
        "    # Delete value\n",
        "    def delete(self, val):\n",
        "        if self.root == None:\n",
        "            print(\"Nothing in the tree. Nothing is deleted.\")\n",
        "            return\n",
        "\n",
        "        cur = self.root\n",
        "        parent = None\n",
        "        left_or_right = 0 \n",
        "        while cur != None and cur.data != val:\n",
        "            parent = cur\n",
        "            if val < cur.data:\n",
        "                cur = cur.left\n",
        "                left_or_right = 0\n",
        "            else:\n",
        "                cur = cur.right\n",
        "                left_or_right = 1\n",
        "\n",
        "        else:\n",
        "            if cur == None:\n",
        "                print(\"Value not found. Nothing is deleted.\")\n",
        "            else:\n",
        "                # cur.data == val\n",
        "                self._delete_restructure(cur,parent,left_or_right)\n",
        "\n",
        "                \n",
        "    # Only used in BST\n",
        "    # It is gauranteed that cur has a right child\n",
        "    def _ios(self, nd:node):\n",
        "        ios = nd.right\n",
        "        left_or_right = 1\n",
        "        ios_pt = nd\n",
        "        while ios.left:\n",
        "            ios_pt = ios\n",
        "            ios = ios.left\n",
        "            left_or_right = 0\n",
        "\n",
        "        return ios, ios_pt, left_or_right\n",
        "\n",
        "\n",
        "            \n",
        "\n",
        "    def iot(self, rt, d = []):\n",
        "\n",
        "        if rt:\n",
        "            # if rt is not none\n",
        "\n",
        "            # Left\n",
        "            self.iot(rt.left, d)\n",
        "\n",
        "            # Append\n",
        "            d.append(rt.data)\n",
        "\n",
        "            # Right\n",
        "            self.iot(rt.right, d)\n",
        "\n",
        "    def pot(self, rt, d = []):\n",
        "\n",
        "        if rt:\n",
        "            # if rt is not none\n",
        "\n",
        "            # Left\n",
        "            self.pot(rt.left, d)\n",
        "\n",
        "            # Right\n",
        "            self.pot(rt.right, d)\n",
        "\n",
        "            # Append\n",
        "            d.append(rt.data)\n",
        "\n",
        "            \n",
        "\n",
        "\n",
        "    def _iot_sum(self, rt, sum):\n",
        "        if rt:\n",
        "            sum = self._iot_sum(rt.left,sum)\n",
        "            sum += rt.data\n",
        "            sum = self._iot_sum(rt.right, sum)\n",
        "\n",
        "        return sum\n",
        "\n",
        "\n",
        "    def iot_sum(self):\n",
        "        sum = self._iot_sum(self.root, 0)\n",
        "        return sum\n",
        "        \n",
        "\n",
        "    # works in an binary search tree, not applicable in balanced binary tree\n",
        "    def find_max(self):\n",
        "        ma = self.root.data\n",
        "        temp = self.root\n",
        "        while temp.right != None:\n",
        "            temp = temp.right\n",
        "            ma = temp.data\n",
        "\n",
        "        return ma\n",
        "\n",
        "    # works in an binary search tree, not applicable in balanced binary tree\n",
        "    def find_min(self):\n",
        "        mi = self.root.data\n",
        "        temp = self.root\n",
        "        while temp.left != None:\n",
        "            temp = temp.left\n",
        "            mi = temp.data\n",
        "\n",
        "        return mi\n",
        "\n",
        "\n",
        "\n",
        "\n",
        "\n",
        "\n",
        "\n",
        "    \n",
        "\n"
      ],
      "execution_count": 4,
      "outputs": []
    },
    {
      "cell_type": "code",
      "metadata": {
        "colab": {
          "base_uri": "https://localhost:8080/"
        },
        "id": "WKBelPjkbi_6",
        "outputId": "32813874-bcd8-40d4-f381-6964b5b8956e"
      },
      "source": [
        "# Test cases\n",
        "tree = binary_tree()\n",
        "arr = [50,2,60,3,4,5]\n",
        "for a in arr:\n",
        "    tree.bst_add(tree.root, a)\n",
        "\n",
        "tree.display()"
      ],
      "execution_count": 5,
      "outputs": [
        {
          "output_type": "stream",
          "text": [
            "\n",
            " Level 0\n",
            "4 \n",
            " Level 1\n",
            "3 50 \n",
            " Level 2\n",
            "2 5 60 "
          ],
          "name": "stdout"
        }
      ]
    },
    {
      "cell_type": "code",
      "metadata": {
        "colab": {
          "base_uri": "https://localhost:8080/"
        },
        "id": "Cj4zdXQBlG82",
        "outputId": "4b657c26-c35f-46ab-b8e0-1c33330e9670"
      },
      "source": [
        "# Test cases\n",
        "tree = binary_tree()\n",
        "arr = [1,2,3,4,5,6,7,8,9,10]\n",
        "for a in arr:\n",
        "    tree.bst_add(tree.root, a)\n",
        "\n",
        "tree.display()"
      ],
      "execution_count": 6,
      "outputs": [
        {
          "output_type": "stream",
          "text": [
            "\n",
            " Level 0\n",
            "4 \n",
            " Level 1\n",
            "2 8 \n",
            " Level 2\n",
            "1 3 6 9 \n",
            " Level 3\n",
            "5 7 10 "
          ],
          "name": "stdout"
        }
      ]
    },
    {
      "cell_type": "code",
      "metadata": {
        "id": "CLqxvIFElG_O"
      },
      "source": [
        ""
      ],
      "execution_count": null,
      "outputs": []
    },
    {
      "cell_type": "code",
      "metadata": {
        "id": "XidYdTGoVA29"
      },
      "source": [
        "# array tree\n",
        "\n",
        "class array_binary_tree:\n",
        "\n",
        "    def __init__(self, arr = []):\n",
        "        self.arr = arr\n",
        "\n",
        "    def display(self):\n",
        "        print(self.arr)\n",
        "\n",
        "    def length(self):\n",
        "        return len(self.arr)\n",
        "\n",
        "    def get_root(self):\n",
        "        return self.arr[0]\n",
        "\n",
        "    def add(self, val):\n",
        "        self.arr.append(val)\n",
        "\n",
        "    def get_left(self, ind : int):\n",
        "        n = len(self.arr)\n",
        "        index = 2*ind + 1\n",
        "        if (index > n - 1):\n",
        "            return None\n",
        "        else:\n",
        "            return self.arr[index]\n",
        "\n",
        "    def get_right(self, ind : int):\n",
        "        n = len(self.arr)\n",
        "        index = 2*ind + 2\n",
        "        if (index > n - 1):\n",
        "            return None\n",
        "        else:\n",
        "            return self.arr[index]\n",
        "\n",
        "    # Good method\n",
        "    def r_r_l(self, cur = 0, arr = []):\n",
        "        \n",
        "        right_index = 2 * cur + 2\n",
        "        left_index = 2 * cur + 1\n",
        "        if right_index < self.size:\n",
        "            self.r_r_l(right_index, arr)\n",
        "\n",
        "        print(self.arr[cur], end = \" \")\n",
        "        arr.append(self.arr[cur])\n",
        "\n",
        "        if left_index < self.size:\n",
        "            self.r_r_l(left_index, arr)\n",
        "\n",
        "\n",
        "    def _iot(self, rt_idx, d = []):\n",
        "\n",
        "        if rt_idx < len(self.arr) and rt_idx >= 0:\n",
        "            self._iot(rt_idx*2 + 1, d)\n",
        "\n",
        "            # Append\n",
        "            d.append(self.arr[rt_idx])\n",
        "\n",
        "            # Right\n",
        "            self._iot(rt_idx*2 + 2, d)\n",
        "\n",
        "    def iot(self):\n",
        "        d = []\n",
        "        self._iot(0, d)\n",
        "        return d\n",
        "\n"
      ],
      "execution_count": 7,
      "outputs": []
    },
    {
      "cell_type": "code",
      "metadata": {
        "id": "UjBSPGF5VA5S"
      },
      "source": [
        ""
      ],
      "execution_count": 8,
      "outputs": []
    },
    {
      "cell_type": "code",
      "metadata": {
        "id": "gIb1tEJ_VA7R"
      },
      "source": [
        "# Mode controls whether it's min or max heap.\n",
        "\n",
        "def _compare_and_switch(arr, ch_idx, pt_idx, mode = 0):\n",
        "    if mode == 0:\n",
        "        # mode = 0 is for max heap\n",
        "        if arr[ch_idx] > arr[pt_idx]:\n",
        "            arr[ch_idx], arr[pt_idx] = arr[pt_idx], arr[ch_idx]\n",
        "            return True\n",
        "        else:\n",
        "            return False\n",
        "    else:\n",
        "        # mode != 0 is for min heap\n",
        "        if arr[ch_idx] <= arr[pt_idx]:\n",
        "            arr[ch_idx], arr[pt_idx] = arr[pt_idx], arr[ch_idx]\n",
        "            return True\n",
        "        else:\n",
        "            return False\n",
        "\n",
        "def _parent_vs_children(arr, pt_idx, mode = 0):\n",
        "    n = len(arr)\n",
        "    le = pt_idx * 2 + 1\n",
        "    ri = pt_idx * 2 + 2\n",
        "\n",
        "    # Having no child\n",
        "    if le >=n and ri >= n:\n",
        "        return\n",
        "\n",
        "    # Having only left child\n",
        "    if le < n and ri >= n:\n",
        "        switched = _compare_and_switch(arr, le, pt_idx, mode)\n",
        "        if switched:\n",
        "            # If switched, we need to check whether the tree with root le is a max heap \n",
        "            _parent_vs_children(arr, le, mode)\n",
        "        return\n",
        "\n",
        "    # Having only right child\n",
        "    if le >= n and ri < n:\n",
        "        switched = _compare_and_switch(arr, ri, pt_idx, mode)\n",
        "        if switched:\n",
        "            _parent_vs_children(arr, ri, mode)\n",
        "        return\n",
        "\n",
        "    # Having both left and right children\n",
        "    if arr[le] > arr[ri]:\n",
        "        switched = _compare_and_switch(arr, le, pt_idx, mode)\n",
        "        if switched:\n",
        "            # If switched, we need to check whether the tree with root le is a max heap \n",
        "            _parent_vs_children(arr, le, mode)\n",
        "    else:\n",
        "        switched = _compare_and_switch(arr, ri, pt_idx, mode)\n",
        "        if switched:\n",
        "            _parent_vs_children(arr, ri, mode)\n",
        "\n",
        "# Not the Python inbuilt heapify... This will reorganize the \"tree structure\".\n",
        "def heapify(arr, mode = 0):\n",
        "\n",
        "    start_idx = len(arr) - 1\n",
        "    pt_idx = (start_idx - 1)//2\n",
        "    while pt_idx >= 0:\n",
        "        _parent_vs_children(arr, pt_idx, mode)\n",
        "        pt_idx -= 1\n",
        "\n",
        "    return arr\n",
        "\n",
        "def heap_sort(arr, mode = 0):\n",
        "    n = len(arr)\n",
        "    while n > 0:\n",
        "        # Originally I wrote heapify(arr[:n], mode) instead of arr[:n] = heapify(..)\n",
        "        # arr[:n] is a copy of arr from index 0 to n-1\n",
        "        # This requires n space for each iteration, total O(n^2)\n",
        "        # There has to be some inplace method to do that... Right now this is a little\n",
        "        # bit of imperfection that I am too lazy to fix, just like everything in life lol.\n",
        "        arr[:n] = heapify(arr[:n], mode)\n",
        "        arr[0], arr[n-1] = arr[n-1], arr[0]\n",
        "        n -= 1\n",
        "    else:\n",
        "        print(arr)\n"
      ],
      "execution_count": 13,
      "outputs": []
    },
    {
      "cell_type": "code",
      "metadata": {
        "colab": {
          "base_uri": "https://localhost:8080/"
        },
        "id": "Bqz77-nswNqV",
        "outputId": "7618536e-1d32-491e-cfd9-81cdeb9ee418"
      },
      "source": [
        "a = [3,2,1,5,4,6,7,8]\n",
        "heap_sort(a)\n"
      ],
      "execution_count": 14,
      "outputs": [
        {
          "output_type": "stream",
          "text": [
            "[1, 2, 3, 4, 5, 6, 7, 8]\n"
          ],
          "name": "stdout"
        }
      ]
    },
    {
      "cell_type": "code",
      "metadata": {
        "colab": {
          "base_uri": "https://localhost:8080/"
        },
        "id": "ETN-uYc1wNsb",
        "outputId": "71b8979e-1fac-41da-aecc-8225548e7394"
      },
      "source": [
        "a = [21,12,90,40,1,3,2,5,7,8,0]\n",
        "heap_sort(a)"
      ],
      "execution_count": 12,
      "outputs": [
        {
          "output_type": "stream",
          "text": [
            "[0, 1, 2, 3, 5, 7, 8, 12, 21, 40, 90]\n"
          ],
          "name": "stdout"
        }
      ]
    },
    {
      "cell_type": "code",
      "metadata": {
        "id": "fMSmj6Nnmd51",
        "colab": {
          "base_uri": "https://localhost:8080/"
        },
        "outputId": "e66c3098-59b4-48fa-a514-ef12a16a763a"
      },
      "source": [
        "a = [88,22,111,33,444,555,1000,2]\n",
        "heap_sort(a)"
      ],
      "execution_count": 15,
      "outputs": [
        {
          "output_type": "stream",
          "text": [
            "[2, 22, 33, 88, 111, 444, 555, 1000]\n"
          ],
          "name": "stdout"
        }
      ]
    },
    {
      "cell_type": "code",
      "metadata": {
        "id": "Ba0uREnSmd8I"
      },
      "source": [
        ""
      ],
      "execution_count": 12,
      "outputs": []
    },
    {
      "cell_type": "code",
      "metadata": {
        "id": "bZqwnX6vmd-t"
      },
      "source": [
        ""
      ],
      "execution_count": 16,
      "outputs": []
    },
    {
      "cell_type": "code",
      "metadata": {
        "id": "loNN1xYSmeBT"
      },
      "source": [
        ""
      ],
      "execution_count": null,
      "outputs": []
    },
    {
      "cell_type": "code",
      "metadata": {
        "id": "-AsMr7r4meDy"
      },
      "source": [
        ""
      ],
      "execution_count": null,
      "outputs": []
    },
    {
      "cell_type": "code",
      "metadata": {
        "id": "O15rTDYgmeGR"
      },
      "source": [
        ""
      ],
      "execution_count": null,
      "outputs": []
    }
  ]
}